{
 "cells": [
  {
   "cell_type": "code",
   "execution_count": 1,
   "metadata": {},
   "outputs": [],
   "source": [
    "from fastai.text.all import *\n",
    "from fastai.callback.progress import ShowGraphCallback\n",
    "from fastai import *\n",
    "import data_1\n",
    "import pandas as pd\n"
   ]
  },
  {
   "cell_type": "code",
   "execution_count": 16,
   "metadata": {},
   "outputs": [
    {
     "ename": "ImportError",
     "evalue": "cannot import name 'dialogs' from 'data_1' (unknown location)",
     "output_type": "error",
     "traceback": [
      "\u001b[1;31m---------------------------------------------------------------------------\u001b[0m",
      "\u001b[1;31mImportError\u001b[0m                               Traceback (most recent call last)",
      "Cell \u001b[1;32mIn[16], line 2\u001b[0m\n\u001b[0;32m      1\u001b[0m \u001b[38;5;28;01mimport\u001b[39;00m \u001b[38;5;21;01mcsv\u001b[39;00m\n\u001b[1;32m----> 2\u001b[0m \u001b[38;5;28;01mfrom\u001b[39;00m \u001b[38;5;21;01mdata_1\u001b[39;00m \u001b[38;5;28;01mimport\u001b[39;00m dialogs\n\u001b[0;32m      3\u001b[0m \u001b[38;5;66;03m# Conversation data\u001b[39;00m\n\u001b[0;32m      4\u001b[0m conversation \u001b[38;5;241m=\u001b[39m [\n\u001b[0;32m      5\u001b[0m     \u001b[38;5;124m'\u001b[39m\u001b[38;5;124mdialogs.txt\u001b[39m\u001b[38;5;124m'\u001b[39m\n\u001b[0;32m      6\u001b[0m ]\n",
      "\u001b[1;31mImportError\u001b[0m: cannot import name 'dialogs' from 'data_1' (unknown location)"
     ]
    }
   ],
   "source": [
    "import csv\n",
    "from data_1 import dialogs\n",
    "# Conversation data\n",
    "conversation = [\n",
    "    'dialogs.txt'\n",
    "]\n",
    "\n",
    "# Define CSV file path\n",
    "csv_file = \"conversation.csv\"\n",
    "\n",
    "# Write data to CSV file\n",
    "with open(csv_file, \"w\", newline=\"\", encoding=\"utf-8\") as file:\n",
    "    writer = csv.writer(file)\n",
    "    writer.writerow([\"Sender\", \"Message\"])\n",
    "    writer.writerows(conversation)\n"
   ]
  }
 ],
 "metadata": {
  "kernelspec": {
   "display_name": "venv",
   "language": "python",
   "name": "python3"
  },
  "language_info": {
   "codemirror_mode": {
    "name": "ipython",
    "version": 3
   },
   "file_extension": ".py",
   "mimetype": "text/x-python",
   "name": "python",
   "nbconvert_exporter": "python",
   "pygments_lexer": "ipython3",
   "version": "3.10.0"
  }
 },
 "nbformat": 4,
 "nbformat_minor": 2
}
